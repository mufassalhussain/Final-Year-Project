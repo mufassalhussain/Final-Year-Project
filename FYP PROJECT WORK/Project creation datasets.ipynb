{
 "cells": [
  {
   "cell_type": "code",
   "execution_count": 1,
   "metadata": {},
   "outputs": [
    {
     "name": "stdout",
     "output_type": "stream",
     "text": [
      "['Covid19 Negative', 'Covid19 Positive']\n"
     ]
    }
   ],
   "source": [
    "\n",
    "import pandas as pd\n",
    "import os\n",
    "import numpy as np\n",
    "datapath='covid-chestxray-dataset-master'\n",
    "dataset_path='dataset'\n",
    "categories=os.listdir(dataset_path)\n",
    "print(categories)\n",
    "\n",
    "dataset=pd.read_csv(os.path.join(datapath,'metadata.csv'))\n",
    "findings=dataset['finding']\n",
    "image_names=dataset['filename']"
   ]
  },
  {
   "cell_type": "code",
   "execution_count": 3,
   "metadata": {},
   "outputs": [],
   "source": [
    "#image path using csv data // row number and colomn name\n",
    "positive_index=np.concatenate((np.where(findings=='Pneumonia/Viral/COVID-19')))\n",
    "positive_image_names=image_names[positive_index]\n"
   ]
  },
  {
   "cell_type": "code",
   "execution_count": 4,
   "metadata": {},
   "outputs": [
    {
     "name": "stdout",
     "output_type": "stream",
     "text": [
      "OpenCV(4.4.0) C:\\Users\\appveyor\\AppData\\Local\\Temp\\1\\pip-req-build-h4wtvo23\\opencv\\modules\\imgcodecs\\src\\loadsave.cpp:738: error: (-215:Assertion failed) !_img.empty() in function 'cv::imwrite'\n",
      "\n",
      "OpenCV(4.4.0) C:\\Users\\appveyor\\AppData\\Local\\Temp\\1\\pip-req-build-h4wtvo23\\opencv\\modules\\imgcodecs\\src\\loadsave.cpp:738: error: (-215:Assertion failed) !_img.empty() in function 'cv::imwrite'\n",
      "\n",
      "OpenCV(4.4.0) C:\\Users\\appveyor\\AppData\\Local\\Temp\\1\\pip-req-build-h4wtvo23\\opencv\\modules\\imgcodecs\\src\\loadsave.cpp:738: error: (-215:Assertion failed) !_img.empty() in function 'cv::imwrite'\n",
      "\n",
      "OpenCV(4.4.0) C:\\Users\\appveyor\\AppData\\Local\\Temp\\1\\pip-req-build-h4wtvo23\\opencv\\modules\\imgcodecs\\src\\loadsave.cpp:738: error: (-215:Assertion failed) !_img.empty() in function 'cv::imwrite'\n",
      "\n",
      "OpenCV(4.4.0) C:\\Users\\appveyor\\AppData\\Local\\Temp\\1\\pip-req-build-h4wtvo23\\opencv\\modules\\imgcodecs\\src\\loadsave.cpp:738: error: (-215:Assertion failed) !_img.empty() in function 'cv::imwrite'\n",
      "\n",
      "OpenCV(4.4.0) C:\\Users\\appveyor\\AppData\\Local\\Temp\\1\\pip-req-build-h4wtvo23\\opencv\\modules\\imgcodecs\\src\\loadsave.cpp:738: error: (-215:Assertion failed) !_img.empty() in function 'cv::imwrite'\n",
      "\n",
      "OpenCV(4.4.0) C:\\Users\\appveyor\\AppData\\Local\\Temp\\1\\pip-req-build-h4wtvo23\\opencv\\modules\\imgcodecs\\src\\loadsave.cpp:738: error: (-215:Assertion failed) !_img.empty() in function 'cv::imwrite'\n",
      "\n",
      "OpenCV(4.4.0) C:\\Users\\appveyor\\AppData\\Local\\Temp\\1\\pip-req-build-h4wtvo23\\opencv\\modules\\imgcodecs\\src\\loadsave.cpp:738: error: (-215:Assertion failed) !_img.empty() in function 'cv::imwrite'\n",
      "\n",
      "OpenCV(4.4.0) C:\\Users\\appveyor\\AppData\\Local\\Temp\\1\\pip-req-build-h4wtvo23\\opencv\\modules\\imgcodecs\\src\\loadsave.cpp:738: error: (-215:Assertion failed) !_img.empty() in function 'cv::imwrite'\n",
      "\n",
      "OpenCV(4.4.0) C:\\Users\\appveyor\\AppData\\Local\\Temp\\1\\pip-req-build-h4wtvo23\\opencv\\modules\\imgcodecs\\src\\loadsave.cpp:738: error: (-215:Assertion failed) !_img.empty() in function 'cv::imwrite'\n",
      "\n",
      "OpenCV(4.4.0) C:\\Users\\appveyor\\AppData\\Local\\Temp\\1\\pip-req-build-h4wtvo23\\opencv\\modules\\imgcodecs\\src\\loadsave.cpp:738: error: (-215:Assertion failed) !_img.empty() in function 'cv::imwrite'\n",
      "\n",
      "OpenCV(4.4.0) C:\\Users\\appveyor\\AppData\\Local\\Temp\\1\\pip-req-build-h4wtvo23\\opencv\\modules\\imgcodecs\\src\\loadsave.cpp:738: error: (-215:Assertion failed) !_img.empty() in function 'cv::imwrite'\n",
      "\n",
      "OpenCV(4.4.0) C:\\Users\\appveyor\\AppData\\Local\\Temp\\1\\pip-req-build-h4wtvo23\\opencv\\modules\\imgcodecs\\src\\loadsave.cpp:738: error: (-215:Assertion failed) !_img.empty() in function 'cv::imwrite'\n",
      "\n",
      "OpenCV(4.4.0) C:\\Users\\appveyor\\AppData\\Local\\Temp\\1\\pip-req-build-h4wtvo23\\opencv\\modules\\imgcodecs\\src\\loadsave.cpp:738: error: (-215:Assertion failed) !_img.empty() in function 'cv::imwrite'\n",
      "\n",
      "OpenCV(4.4.0) C:\\Users\\appveyor\\AppData\\Local\\Temp\\1\\pip-req-build-h4wtvo23\\opencv\\modules\\imgcodecs\\src\\loadsave.cpp:738: error: (-215:Assertion failed) !_img.empty() in function 'cv::imwrite'\n",
      "\n",
      "OpenCV(4.4.0) C:\\Users\\appveyor\\AppData\\Local\\Temp\\1\\pip-req-build-h4wtvo23\\opencv\\modules\\imgcodecs\\src\\loadsave.cpp:738: error: (-215:Assertion failed) !_img.empty() in function 'cv::imwrite'\n",
      "\n",
      "OpenCV(4.4.0) C:\\Users\\appveyor\\AppData\\Local\\Temp\\1\\pip-req-build-h4wtvo23\\opencv\\modules\\imgcodecs\\src\\loadsave.cpp:738: error: (-215:Assertion failed) !_img.empty() in function 'cv::imwrite'\n",
      "\n",
      "OpenCV(4.4.0) C:\\Users\\appveyor\\AppData\\Local\\Temp\\1\\pip-req-build-h4wtvo23\\opencv\\modules\\imgcodecs\\src\\loadsave.cpp:738: error: (-215:Assertion failed) !_img.empty() in function 'cv::imwrite'\n",
      "\n",
      "OpenCV(4.4.0) C:\\Users\\appveyor\\AppData\\Local\\Temp\\1\\pip-req-build-h4wtvo23\\opencv\\modules\\imgcodecs\\src\\loadsave.cpp:738: error: (-215:Assertion failed) !_img.empty() in function 'cv::imwrite'\n",
      "\n",
      "OpenCV(4.4.0) C:\\Users\\appveyor\\AppData\\Local\\Temp\\1\\pip-req-build-h4wtvo23\\opencv\\modules\\imgcodecs\\src\\loadsave.cpp:738: error: (-215:Assertion failed) !_img.empty() in function 'cv::imwrite'\n",
      "\n",
      "OpenCV(4.4.0) C:\\Users\\appveyor\\AppData\\Local\\Temp\\1\\pip-req-build-h4wtvo23\\opencv\\modules\\imgcodecs\\src\\loadsave.cpp:738: error: (-215:Assertion failed) !_img.empty() in function 'cv::imwrite'\n",
      "\n"
     ]
    }
   ],
   "source": [
    "#open cv module\n",
    "import cv2\n",
    "for positive_image_name in positive_image_names:\n",
    "    image=cv2.imread(os.path.join(datapath,'images',positive_image_name))\n",
    "    try:\n",
    "        cv2.imwrite(os.path.join(dataset_path,categories[1],positive_image_name),image)\n",
    "    except Exception as e:\n",
    "            print(e)"
   ]
  },
  {
   "cell_type": "code",
   "execution_count": null,
   "metadata": {},
   "outputs": [],
   "source": [
    "\n"
   ]
  }
 ],
 "metadata": {
  "kernelspec": {
   "display_name": "Python 3",
   "language": "python",
   "name": "python3"
  },
  "language_info": {
   "codemirror_mode": {
    "name": "ipython",
    "version": 3
   },
   "file_extension": ".py",
   "mimetype": "text/x-python",
   "name": "python",
   "nbconvert_exporter": "python",
   "pygments_lexer": "ipython3",
   "version": "3.8.3"
  }
 },
 "nbformat": 4,
 "nbformat_minor": 2
}
