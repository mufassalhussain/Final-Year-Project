{
 "cells": [
  {
   "cell_type": "code",
   "execution_count": 1,
   "metadata": {},
   "outputs": [],
   "source": [
    "import numpy as np\n",
    "data=np.load('data_more.npy')\n",
    "target=np.load('target_more.npy')"
   ]
  },
  {
   "cell_type": "code",
   "execution_count": 2,
   "metadata": {},
   "outputs": [],
   "source": [
    "from tensorflow.keras.models import Sequential,Model\n",
    "from tensorflow.keras.layers import Dense, Dropout, Flatten\n",
    "from tensorflow.keras.layers import Conv2D,Activation,MaxPooling2D\n",
    "from tensorflow.keras.utils import normalize\n",
    "from tensorflow.keras.layers import Concatenate\n",
    "from tensorflow.keras import Input\n",
    "from tensorflow.keras.callbacks import ModelCheckpoint\n",
    "import tensorflow as tf\n",
    "from tensorflow import keras\n",
    "from tensorflow import lite"
   ]
  },
  {
   "cell_type": "code",
   "execution_count": 3,
   "metadata": {},
   "outputs": [
    {
     "name": "stdout",
     "output_type": "stream",
     "text": [
      "Model: \"sequential\"\n",
      "_________________________________________________________________\n",
      "Layer (type)                 Output Shape              Param #   \n",
      "=================================================================\n",
      "model (Model)                (None, 100, 100, 384)     11008     \n",
      "_________________________________________________________________\n",
      "conv2d_3 (Conv2D)            (None, 98, 98, 64)        221248    \n",
      "_________________________________________________________________\n",
      "activation (Activation)      (None, 98, 98, 64)        0         \n",
      "_________________________________________________________________\n",
      "max_pooling2d (MaxPooling2D) (None, 49, 49, 64)        0         \n",
      "_________________________________________________________________\n",
      "conv2d_4 (Conv2D)            (None, 47, 47, 32)        18464     \n",
      "_________________________________________________________________\n",
      "activation_1 (Activation)    (None, 47, 47, 32)        0         \n",
      "_________________________________________________________________\n",
      "max_pooling2d_1 (MaxPooling2 (None, 23, 23, 32)        0         \n",
      "_________________________________________________________________\n",
      "flatten (Flatten)            (None, 16928)             0         \n",
      "_________________________________________________________________\n",
      "dropout (Dropout)            (None, 16928)             0         \n",
      "_________________________________________________________________\n",
      "dense (Dense)                (None, 128)               2166912   \n",
      "_________________________________________________________________\n",
      "dropout_1 (Dropout)          (None, 128)               0         \n",
      "_________________________________________________________________\n",
      "dense_1 (Dense)              (None, 64)                8256      \n",
      "_________________________________________________________________\n",
      "dropout_2 (Dropout)          (None, 64)                0         \n",
      "_________________________________________________________________\n",
      "dense_2 (Dense)              (None, 2)                 130       \n",
      "=================================================================\n",
      "Total params: 2,426,018\n",
      "Trainable params: 2,426,018\n",
      "Non-trainable params: 0\n",
      "_________________________________________________________________\n"
     ]
    }
   ],
   "source": [
    "\n",
    "input_shape=data.shape[1:] #50,50,1\n",
    "inp=Input(shape=input_shape)\n",
    "convs=[]\n",
    "#parrale 2d conv layer 128@3x3 128@5x5 128@7x7\n",
    "parralel_kernels=[3,5,7]\n",
    "for k in range(len(parralel_kernels)):\n",
    "\n",
    "    conv = Conv2D(128,parralel_kernels[k],padding='same',activation='relu',input_shape=input_shape,strides=1)(inp)\n",
    "    convs.append(conv)\n",
    "\n",
    "out = Concatenate()(convs)\n",
    "conv_model = Model(inputs=inp, outputs=out)\n",
    "\n",
    "model = Sequential()\n",
    "model.add(conv_model)\n",
    "\n",
    "model.add(Conv2D(64,(3,3)))\n",
    "model.add(Activation('relu'))\n",
    "model.add(MaxPooling2D(pool_size=(2,2)))\n",
    "\n",
    "model.add(Conv2D(32,(3,3)))\n",
    "model.add(Activation('relu'))\n",
    "model.add(MaxPooling2D(pool_size=(2,2)))\n",
    "\n",
    "model.add(Flatten())\n",
    "#use dropout for minimize overfitting\n",
    "model.add(Dropout(0.5))\n",
    "model.add(Dense(128,activation='relu'))\n",
    "model.add(Dropout(0.5))\n",
    "model.add(Dense(64,activation='relu'))\n",
    "model.add(Dropout(0.5))\n",
    "\n",
    "#use softmax as activiton of output layer since probability we need COVID19 & Negative\n",
    "model.add(Dense(2,input_dim=128,activation='softmax'))\n",
    "\n",
    "#categorical crossentropy use for specifictaion type problem\n",
    "model.compile(loss='categorical_crossentropy',optimizer='adam',metrics=['accuracy'])\n",
    "\n",
    "model.summary()"
   ]
  },
  {
   "cell_type": "code",
   "execution_count": 5,
   "metadata": {},
   "outputs": [],
   "source": [
    "from sklearn.model_selection import train_test_split\n",
    "#as we see 10% testing go to testing and 90% go to the training \n",
    "train_data,test_data,train_target,test_target=train_test_split(data,target,test_size=0.1)"
   ]
  },
  {
   "cell_type": "code",
   "execution_count": 7,
   "metadata": {},
   "outputs": [
    {
     "name": "stdout",
     "output_type": "stream",
     "text": [
      "Epoch 1/20\n",
      "23/23 [==============================] - ETA: 0s - loss: 0.2155 - accuracy: 0.9264INFO:tensorflow:Assets written to: model-001.model\\assets\n",
      "23/23 [==============================] - 209s 9s/step - loss: 0.2155 - accuracy: 0.9264 - val_loss: 0.0816 - val_accuracy: 0.9747\n",
      "Epoch 2/20\n",
      "23/23 [==============================] - ETA: 0s - loss: 0.1787 - accuracy: 0.9505INFO:tensorflow:Assets written to: model-002.model\\assets\n",
      "23/23 [==============================] - 187s 8s/step - loss: 0.1787 - accuracy: 0.9505 - val_loss: 0.0248 - val_accuracy: 1.0000\n",
      "Epoch 3/20\n",
      "23/23 [==============================] - 175s 8s/step - loss: 0.1310 - accuracy: 0.9562 - val_loss: 0.0433 - val_accuracy: 0.9873\n",
      "Epoch 4/20\n",
      "23/23 [==============================] - ETA: 0s - loss: 0.1856 - accuracy: 0.9519INFO:tensorflow:Assets written to: model-004.model\\assets\n",
      "23/23 [==============================] - 220s 10s/step - loss: 0.1856 - accuracy: 0.9519 - val_loss: 0.0167 - val_accuracy: 1.0000\n",
      "Epoch 5/20\n",
      "23/23 [==============================] - ETA: 0s - loss: 0.0998 - accuracy: 0.9675INFO:tensorflow:Assets written to: model-005.model\\assets\n",
      "23/23 [==============================] - 191s 8s/step - loss: 0.0998 - accuracy: 0.9675 - val_loss: 0.0046 - val_accuracy: 1.0000\n",
      "Epoch 6/20\n",
      "23/23 [==============================] - ETA: 0s - loss: 0.0418 - accuracy: 0.9873 - ETA: 34s - loss: 0.0435 - accuracy: 0.98 - ETA: 19s - loss: 0.0433 - accuracy: 0.98INFO:tensorflow:Assets written to: model-006.model\\assets\n",
      "23/23 [==============================] - 297s 13s/step - loss: 0.0418 - accuracy: 0.9873 - val_loss: 6.0034e-04 - val_accuracy: 1.0000\n",
      "Epoch 7/20\n",
      "23/23 [==============================] - 239s 10s/step - loss: 0.0930 - accuracy: 0.9731 - val_loss: 0.0118 - val_accuracy: 1.0000\n",
      "Epoch 8/20\n",
      "23/23 [==============================] - 230s 10s/step - loss: 0.0566 - accuracy: 0.9844 - val_loss: 0.0132 - val_accuracy: 1.0000\n",
      "Epoch 9/20\n",
      "23/23 [==============================] - 181s 8s/step - loss: 0.0578 - accuracy: 0.9859 - val_loss: 0.0068 - val_accuracy: 1.0000\n",
      "Epoch 10/20\n",
      "23/23 [==============================] - 179s 8s/step - loss: 0.0533 - accuracy: 0.9859 - val_loss: 0.0027 - val_accuracy: 1.0000\n",
      "Epoch 11/20\n",
      "23/23 [==============================] - 185s 8s/step - loss: 0.0243 - accuracy: 0.9929 - val_loss: 0.0469 - val_accuracy: 0.9747\n",
      "Epoch 12/20\n",
      "23/23 [==============================] - 183s 8s/step - loss: 0.0557 - accuracy: 0.9788 - val_loss: 0.0025 - val_accuracy: 1.0000\n",
      "Epoch 13/20\n",
      "23/23 [==============================] - 181s 8s/step - loss: 0.0376 - accuracy: 0.9929 - val_loss: 0.0044 - val_accuracy: 1.0000\n",
      "Epoch 14/20\n",
      "23/23 [==============================] - 181s 8s/step - loss: 0.0452 - accuracy: 0.9887 - val_loss: 0.0065 - val_accuracy: 1.0000\n",
      "Epoch 15/20\n",
      "23/23 [==============================] - 182s 8s/step - loss: 0.0385 - accuracy: 0.9943 - val_loss: 0.0066 - val_accuracy: 1.0000\n",
      "Epoch 16/20\n",
      "23/23 [==============================] - 181s 8s/step - loss: 0.0221 - accuracy: 0.9943 - val_loss: 0.0039 - val_accuracy: 1.0000\n",
      "Epoch 17/20\n",
      "23/23 [==============================] - 179s 8s/step - loss: 0.0202 - accuracy: 0.9972 - val_loss: 9.3373e-04 - val_accuracy: 1.0000\n",
      "Epoch 18/20\n",
      "23/23 [==============================] - 178s 8s/step - loss: 0.0464 - accuracy: 0.9887 - val_loss: 0.0059 - val_accuracy: 1.0000\n",
      "Epoch 19/20\n",
      "23/23 [==============================] - 179s 8s/step - loss: 0.0713 - accuracy: 0.9774 - val_loss: 0.0016 - val_accuracy: 1.0000\n",
      "Epoch 20/20\n",
      "23/23 [==============================] - ETA: 0s - loss: 0.0213 - accuracy: 0.9915INFO:tensorflow:Assets written to: model-020.model\\assets\n",
      "23/23 [==============================] - 228s 10s/step - loss: 0.0213 - accuracy: 0.9915 - val_loss: 2.1316e-04 - val_accuracy: 1.0000\n"
     ]
    }
   ],
   "source": [
    "#save all the nueral model here then moniter validation and then we save best only\n",
    "#val-loss for minimum validation loss\n",
    "checkpoint = ModelCheckpoint('model-{epoch:03d}.model',monitor='val_loss',verbose=0,save_best_only=True,mode='auto')\n",
    "#10 percent use as validation\n",
    "#increasing epochs we increase the neural neural\n",
    "history=model.fit(train_data,train_target,epochs=20,callbacks=[checkpoint],validation_split=0.1)\n"
   ]
  },
  {
   "cell_type": "code",
   "execution_count": 8,
   "metadata": {},
   "outputs": [
    {
     "data": {
      "text/plain": [
       "9708840"
      ]
     },
     "execution_count": 8,
     "metadata": {},
     "output_type": "execute_result"
    }
   ],
   "source": [
    "\n",
    "keras_file=\"linear.h5\"\n",
    "tf.keras.models.save_model(model,keras_file)\n",
    "converter=lite.TFLiteConverter.from_keras_model(model)\n",
    "tfmodel=converter.convert()\n",
    "open(\"linear.tflite\",\"wb\").write(tfmodel)\n",
    "\n",
    "\n"
   ]
  },
  {
   "cell_type": "code",
   "execution_count": 13,
   "metadata": {},
   "outputs": [
    {
     "data": {
      "image/png": "[encoded data removed]",
      "text/plain": [
       "<Figure size 432x288 with 1 Axes>"
      ]
     },
     "metadata": {
      "needs_background": "light"
     },
     "output_type": "display_data"
    },
    {
     "data": {
      "image/png": "[encoded data removed]",
      "text/plain": [
       "<Figure size 432x288 with 1 Axes>"
      ]
     },
     "metadata": {
      "needs_background": "light"
     },
     "output_type": "display_data"
    }
   ],
   "source": [
    "from matplotlib import pyplot as plt\n",
    "plt.plot(history.history['loss'],'r',label='training loss')\n",
    "plt.plot(history.history['val_loss'],label='validation loss')\n",
    "plt.xlabel('# epochs')\n",
    "plt.ylabel('loss')\n",
    "plt.legend()\n",
    "plt.show()\n",
    "\n",
    "plt.plot(history.history['accuracy'],'r',label='training accuracy')\n",
    "plt.plot(history.history['val_accuracy'],label='validation accuracy')\n",
    "plt.xlabel('# epochs')\n",
    "plt.ylabel('loss')\n",
    "plt.legend()\n",
    "plt.show()"
   ]
  },
  {
   "cell_type": "code",
   "execution_count": 14,
   "metadata": {},
   "outputs": [
    {
     "name": "stdout",
     "output_type": "stream",
     "text": [
      "3/3 [==============================] - 4s 1s/step - loss: 0.2070 - accuracy: 0.9886\n",
      "[0.20701517164707184, 0.9886363744735718]\n"
     ]
    }
   ],
   "source": [
    "print(model.evaluate(test_data,test_target))"
   ]
  },
  {
   "cell_type": "code",
   "execution_count": 24,
   "metadata": {},
   "outputs": [],
   "source": []
  },
  {
   "cell_type": "code",
   "execution_count": null,
   "metadata": {},
   "outputs": [],
   "source": []
  },
  {
   "cell_type": "code",
   "execution_count": null,
   "metadata": {},
   "outputs": [],
   "source": []
  },
  {
   "cell_type": "code",
   "execution_count": null,
   "metadata": {},
   "outputs": [],
   "source": []
  },
  {
   "cell_type": "code",
   "execution_count": null,
   "metadata": {},
   "outputs": [],
   "source": []
  }
 ],
 "metadata": {
  "kernelspec": {
   "display_name": "Python 3",
   "language": "python",
   "name": "python3"
  },
  "language_info": {
   "codemirror_mode": {
    "name": "ipython",
    "version": 3
   },
   "file_extension": ".py",
   "mimetype": "text/x-python",
   "name": "python",
   "nbconvert_exporter": "python",
   "pygments_lexer": "ipython3",
   "version": "3.8.3"
  }
 },
 "nbformat": 4,
 "nbformat_minor": 4
}
